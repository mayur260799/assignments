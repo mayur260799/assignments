{
 "cells": [
  {
   "cell_type": "raw",
   "id": "47717965-9f4b-46ea-94bd-030fdffefb42",
   "metadata": {},
   "source": [
    "Q1. Create a Pandas Series that contains the following data: 4, 8, 15, 16, 23, and 42. Then, print the series."
   ]
  },
  {
   "cell_type": "code",
   "execution_count": 10,
   "id": "49323b22-67fa-4ae1-ba55-afe242d4aa90",
   "metadata": {},
   "outputs": [],
   "source": [
    "#Answer Q1\n",
    "data = [4, 8, 15, 16, 23, 42]\n",
    "series = pd.Series(data)\n",
    "\n"
   ]
  },
  {
   "cell_type": "code",
   "execution_count": null,
   "id": "faa01b20-9790-4689-a6e8-eec750cd8ce5",
   "metadata": {},
   "outputs": [
    {
     "data": {
      "text/plain": [
       "0     4\n",
       "1     8\n",
       "2    15\n",
       "3    16\n",
       "4    23\n",
       "5    42\n",
       "dtype: int64"
      ]
     },
     "execution_count": 11,
     "metadata": {},
     "output_type": "execute_result"
    }
   ],
   "source": [
    "series"
   ]
  },
  {
   "cell_type": "raw",
   "id": "08b2982a-2d28-4fb2-a037-a3e26947d53c",
   "metadata": {},
   "source": [
    "Q2. Create a variable of list type containing 10 elements in it, and apply pandas.Series function on the\n",
    "variable print it."
   ]
  },
  {
   "cell_type": "code",
   "execution_count": 12,
   "id": "6537e7ee-344b-452d-a8b5-5ba527eb8165",
   "metadata": {},
   "outputs": [],
   "source": [
    "#Answer Q2\n",
    "l = [2, 4, 6, 8, 10, 12, 14, 16, 18, 20]\n",
    "series = pd.Series(l)\n",
    "\n"
   ]
  },
  {
   "cell_type": "code",
   "execution_count": 13,
   "id": "fbbe405a-41ab-4451-b9b2-345a192f8347",
   "metadata": {},
   "outputs": [
    {
     "data": {
      "text/plain": [
       "0     2\n",
       "1     4\n",
       "2     6\n",
       "3     8\n",
       "4    10\n",
       "5    12\n",
       "6    14\n",
       "7    16\n",
       "8    18\n",
       "9    20\n",
       "dtype: int64"
      ]
     },
     "execution_count": 13,
     "metadata": {},
     "output_type": "execute_result"
    }
   ],
   "source": [
    "series"
   ]
  },
  {
   "cell_type": "raw",
   "id": "70015791-3373-4e93-a376-3f911b36af42",
   "metadata": {},
   "source": [
    "Q3. Create a Pandas DataFrame that contains the following data:"
   ]
  },
  {
   "cell_type": "code",
   "execution_count": 19,
   "id": "2e2a65f5-87ca-44a0-94d0-6978d8d23aa9",
   "metadata": {},
   "outputs": [],
   "source": [
    "#Answer Q3\n",
    "df = {'name' : ['Alice','Bob','Claire'] ,\n",
    "      'age'  : [25,30,27] ,\n",
    "      'gender' : ['Female' , 'Male' , 'Femail']\n",
    "        \n",
    "}"
   ]
  },
  {
   "cell_type": "code",
   "execution_count": 15,
   "id": "1494c33a-d896-46f5-a3d9-67124190e818",
   "metadata": {},
   "outputs": [],
   "source": []
  },
  {
   "cell_type": "code",
   "execution_count": 17,
   "id": "0acfa327-606a-4506-a707-284ce356c597",
   "metadata": {},
   "outputs": [
    {
     "data": {
      "text/html": [
       "<div>\n",
       "<style scoped>\n",
       "    .dataframe tbody tr th:only-of-type {\n",
       "        vertical-align: middle;\n",
       "    }\n",
       "\n",
       "    .dataframe tbody tr th {\n",
       "        vertical-align: top;\n",
       "    }\n",
       "\n",
       "    .dataframe thead th {\n",
       "        text-align: right;\n",
       "    }\n",
       "</style>\n",
       "<table border=\"1\" class=\"dataframe\">\n",
       "  <thead>\n",
       "    <tr style=\"text-align: right;\">\n",
       "      <th></th>\n",
       "      <th>name</th>\n",
       "      <th>age</th>\n",
       "      <th>gender</th>\n",
       "    </tr>\n",
       "  </thead>\n",
       "  <tbody>\n",
       "    <tr>\n",
       "      <th>0</th>\n",
       "      <td>Alice</td>\n",
       "      <td>25</td>\n",
       "      <td>Female</td>\n",
       "    </tr>\n",
       "    <tr>\n",
       "      <th>1</th>\n",
       "      <td>Bob</td>\n",
       "      <td>30</td>\n",
       "      <td>Male</td>\n",
       "    </tr>\n",
       "    <tr>\n",
       "      <th>2</th>\n",
       "      <td>Claire</td>\n",
       "      <td>27</td>\n",
       "      <td>Femail</td>\n",
       "    </tr>\n",
       "  </tbody>\n",
       "</table>\n",
       "</div>"
      ],
      "text/plain": [
       "     name  age  gender\n",
       "0   Alice   25  Female\n",
       "1     Bob   30    Male\n",
       "2  Claire   27  Femail"
      ]
     },
     "execution_count": 17,
     "metadata": {},
     "output_type": "execute_result"
    }
   ],
   "source": [
    "pd.DataFrame(df)"
   ]
  },
  {
   "cell_type": "raw",
   "id": "39a435f7-3546-4315-b0ce-f47fd211501b",
   "metadata": {},
   "source": [
    "Q4. What is ‘DataFrame’ in pandas and how is it different from pandas.series? Explain with an example."
   ]
  },
  {
   "cell_type": "raw",
   "id": "1f984a49-aaa7-4f5e-a1bb-ec44f58c3af5",
   "metadata": {},
   "source": [
    "#Answer Q4\n",
    "\n",
    "In Pandas, a DataFrame is a two-dimensional labeled data structure with columns that can be of different types (numeric, string, boolean, etc.). It is one of the primary data structures used for data manipulation and analysis in Pandas. Essentially, a DataFrame can be thought of as a table-like structure where each column represents a different variable, and each row represents an observation.\n",
    "\n",
    "On the other hand, a Series is a one-dimensional labeled array that can hold data of any type. It's similar to a column in a spreadsheet or a single column of data in a DataFrame.\n",
    "\n",
    "Suppose we have a data of 3 perosn in Q3 with thire \"name\" \"age\" and \"gender\"\n",
    "we can represent this as a dataFrame \n",
    "Name, Age , Gender would be series (column) of this data frame "
   ]
  },
  {
   "cell_type": "raw",
   "id": "02c4aa2f-e387-4040-8b2f-09014ebdcc19",
   "metadata": {},
   "source": []
  },
  {
   "cell_type": "raw",
   "id": "fbf0b597-f120-4f3a-a013-4f4d0c6ed84b",
   "metadata": {},
   "source": [
    "Q.5 What are some common functions you can use to manipulate data in a Pandas DataFrame? Can\n",
    "you give an example of when you might use one of these functions?"
   ]
  },
  {
   "cell_type": "code",
   "execution_count": null,
   "id": "ce33ac63-091e-40a7-b703-aecc0e8ed193",
   "metadata": {},
   "outputs": [],
   "source": [
    "#Answer Q5\n",
    "\n",
    "# Funtion 1 - Set Index  \n",
    "\n",
    "data = {'a':[2,4,4,5],\n",
    "        'b':[4,5,6,6],\n",
    "        'c' : ['mayur','baba','naveen','sagar'] }\n",
    "df = pd.DataFrame(data)\n",
    "df.set_index('a') \n",
    "#we can set index of any data and choose any column as a index using this funtion \n",
    "#we can also you implace so that we can print same output again \n",
    "\n",
    "\n",
    "\n",
    "\n"
   ]
  },
  {
   "cell_type": "code",
   "execution_count": null,
   "id": "8f3e6114-9516-480d-90b7-9f392cf83c2a",
   "metadata": {},
   "outputs": [],
   "source": [
    "\n",
    "# funtion 2 - dropna\n",
    "\n",
    "taxomony = pd.read_csv(\"taxonomy.csv\")\n",
    "taxomony.dropna()\n",
    "\n",
    "##we use dropna funtion to drop none values in series"
   ]
  },
  {
   "cell_type": "code",
   "execution_count": null,
   "id": "eb6d8a23-c2e3-4694-ae99-de5f09752bb4",
   "metadata": {},
   "outputs": [],
   "source": [
    "\n",
    "# funtion 2 - dropna\n",
    "\n",
    "taxomony = pd.read_csv(\"taxonomy.csv\")\n",
    "taxomony.dropna()\n",
    "\n",
    "##we use dropna funtion to drop none values in series"
   ]
  },
  {
   "cell_type": "code",
   "execution_count": null,
   "id": "a6af3425-aca2-4a07-bf59-9a17915f03c7",
   "metadata": {},
   "outputs": [],
   "source": [
    "\n",
    "# funtion 3 - fillna\n",
    "\n",
    "taxomony2 = pd.read_csv(\"taxonomy.csv\")\n",
    "taxomony.fillna('mayur')\n",
    "\n",
    "##we use dropna funtion to drop none values in series"
   ]
  },
  {
   "cell_type": "code",
   "execution_count": null,
   "id": "a0e5562d-f272-4d52-acc4-1b67f37d451d",
   "metadata": {},
   "outputs": [],
   "source": []
  },
  {
   "cell_type": "code",
   "execution_count": null,
   "id": "683d1712-9434-4b29-9a49-864e131adf52",
   "metadata": {},
   "outputs": [],
   "source": []
  },
  {
   "cell_type": "raw",
   "id": "6ea49007-9223-438b-9b9f-514f156d12f3",
   "metadata": {},
   "source": [
    "Q.6 Which of the following is mutable in nature Series, DataFrame, Panel?\n",
    "\n",
    "\n",
    "Among the options, both Series and DataFrame are mutable in nature in Pandas. However, Panel is not mutable.\n",
    "\n",
    "Series: A Series is a one-dimensional array-like structure with labeled data. You can modify the values within a Series after it's created.\n",
    "\n",
    "DataFrame: A DataFrame is a two-dimensional table-like structure with labeled columns that can contain various data types. You can modify the values within a DataFrame, add or remove columns, and perform various operations to manipulate the data."
   ]
  },
  {
   "cell_type": "code",
   "execution_count": null,
   "id": "b55b1449-b8e4-4378-a66f-e112446e3e32",
   "metadata": {},
   "outputs": [],
   "source": []
  },
  {
   "cell_type": "raw",
   "id": "ee355e06-166c-47ec-b063-8c6f1bde6905",
   "metadata": {},
   "source": [
    "Q.7 Create a DataFrame using multiple Series. Explain with an example."
   ]
  },
  {
   "cell_type": "code",
   "execution_count": 50,
   "id": "43675867-5da9-44fa-b3b9-d92897430f76",
   "metadata": {},
   "outputs": [
    {
     "data": {
      "text/html": [
       "<div>\n",
       "<style scoped>\n",
       "    .dataframe tbody tr th:only-of-type {\n",
       "        vertical-align: middle;\n",
       "    }\n",
       "\n",
       "    .dataframe tbody tr th {\n",
       "        vertical-align: top;\n",
       "    }\n",
       "\n",
       "    .dataframe thead th {\n",
       "        text-align: right;\n",
       "    }\n",
       "</style>\n",
       "<table border=\"1\" class=\"dataframe\">\n",
       "  <thead>\n",
       "    <tr style=\"text-align: right;\">\n",
       "      <th></th>\n",
       "      <th>name</th>\n",
       "      <th>age</th>\n",
       "      <th>gender</th>\n",
       "      <th>marks</th>\n",
       "    </tr>\n",
       "  </thead>\n",
       "  <tbody>\n",
       "    <tr>\n",
       "      <th>0</th>\n",
       "      <td>Alice</td>\n",
       "      <td>25</td>\n",
       "      <td>Female</td>\n",
       "      <td>45</td>\n",
       "    </tr>\n",
       "    <tr>\n",
       "      <th>1</th>\n",
       "      <td>Bob</td>\n",
       "      <td>30</td>\n",
       "      <td>Male</td>\n",
       "      <td>43</td>\n",
       "    </tr>\n",
       "    <tr>\n",
       "      <th>2</th>\n",
       "      <td>Claire</td>\n",
       "      <td>27</td>\n",
       "      <td>Female</td>\n",
       "      <td>43</td>\n",
       "    </tr>\n",
       "    <tr>\n",
       "      <th>3</th>\n",
       "      <td>john</td>\n",
       "      <td>45</td>\n",
       "      <td>Male</td>\n",
       "      <td>24</td>\n",
       "    </tr>\n",
       "    <tr>\n",
       "      <th>4</th>\n",
       "      <td>michel</td>\n",
       "      <td>64</td>\n",
       "      <td>Male</td>\n",
       "      <td>45</td>\n",
       "    </tr>\n",
       "    <tr>\n",
       "      <th>5</th>\n",
       "      <td>tim</td>\n",
       "      <td>23</td>\n",
       "      <td>Male</td>\n",
       "      <td>54</td>\n",
       "    </tr>\n",
       "  </tbody>\n",
       "</table>\n",
       "</div>"
      ],
      "text/plain": [
       "     name  age  gender  marks\n",
       "0   Alice   25  Female     45\n",
       "1     Bob   30    Male     43\n",
       "2  Claire   27  Female     43\n",
       "3    john   45    Male     24\n",
       "4  michel   64    Male     45\n",
       "5     tim   23    Male     54"
      ]
     },
     "execution_count": 50,
     "metadata": {},
     "output_type": "execute_result"
    }
   ],
   "source": [
    "#Answer Q7\n",
    "df3 = {'name' : ['Alice','Bob','Claire','john','michel','tim'] ,\n",
    "      'age'  : [25,30,27,45,64,23] ,\n",
    "      'gender' : ['Female', 'Male','Female','Male','Male','Male'],\n",
    "       'marks' : [45,43,43,24,45,54]       \n",
    "}\n",
    "pd.DataFrame(df3)\n"
   ]
  },
  {
   "cell_type": "code",
   "execution_count": null,
   "id": "d1c2909e-5c59-4785-9804-89fa08b0623c",
   "metadata": {},
   "outputs": [],
   "source": []
  }
 ],
 "metadata": {
  "kernelspec": {
   "display_name": "Python 3 (ipykernel)",
   "language": "python",
   "name": "python3"
  },
  "language_info": {
   "codemirror_mode": {
    "name": "ipython",
    "version": 3
   },
   "file_extension": ".py",
   "mimetype": "text/x-python",
   "name": "python",
   "nbconvert_exporter": "python",
   "pygments_lexer": "ipython3",
   "version": "3.10.8"
  }
 },
 "nbformat": 4,
 "nbformat_minor": 5
}
