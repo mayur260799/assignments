{
 "cells": [
  {
   "cell_type": "code",
   "execution_count": 16,
   "id": "c8504064-bedb-4ef9-97f1-61e7f7083029",
   "metadata": {
    "tags": []
   },
   "outputs": [],
   "source": [
    "# Q1. Create one variable containing following type of data:\n",
    "A = \"Mayur\"\n",
    "B = [2,3,4,5,5.65,\"Mayur\", 5 + 5j]\n",
    "c = 6.42\n",
    "tuple_1 = (75,56,353,'Mayur','Choudhary')"
   ]
  },
  {
   "cell_type": "code",
   "execution_count": null,
   "id": "74ea03e8-927d-49ba-b38d-a11cd2eb8e82",
   "metadata": {},
   "outputs": [],
   "source": [
    "''' Q2. Given are some following variables containing data:\n",
    "(i) var1 = ‘ ‘\n",
    "(ii) var2 = ‘[ DS , ML , Python]’\n",
    "(iii) var3 = [ ‘DS’ , ’ML’ , ‘Python’ ]\n",
    "(iv) var4 = 1.\n",
    "\n",
    "Answe- (i) = String \n",
    "       (ii) = String \n",
    "        (iii) = List \n",
    "        (iv) = flote '''"
   ]
  },
  {
   "cell_type": "code",
   "execution_count": 18,
   "id": "0f4c0b67-cea9-4a3a-838c-3b0e7f591e56",
   "metadata": {},
   "outputs": [],
   "source": [
    " '''Q3. Explain the use of the following operators using an example:\n",
    "(i) / -  Division \n",
    "(ii) % - Modulus \n",
    "(iii) // - Floor Division \n",
    "(iv) ** - Exponentiation'''\n",
    "    \n",
    "a = 10/2\n",
    "b = 10%3\n",
    "c = 10//2\n",
    "d = 3**3\n",
    "\n"
   ]
  },
  {
   "cell_type": "code",
   "execution_count": 24,
   "id": "31580fb6-fb50-423a-8838-023fa2391aa9",
   "metadata": {},
   "outputs": [
    {
     "name": "stdout",
     "output_type": "stream",
     "text": [
      "5.0 1 5 27\n"
     ]
    }
   ],
   "source": [
    "print(a,b,c,d)"
   ]
  },
  {
   "cell_type": "code",
   "execution_count": 45,
   "id": "9f133e3e-3624-4cd9-9f16-7a59ec0a52ad",
   "metadata": {},
   "outputs": [
    {
     "name": "stdout",
     "output_type": "stream",
     "text": [
      "Element = 4 , Data Type= <class 'int'>\n",
      "Element = 5 , Data Type= <class 'int'>\n",
      "Element = 7 , Data Type= <class 'int'>\n",
      "Element = 242 , Data Type= <class 'int'>\n",
      "Element = Mayur , Data Type= <class 'str'>\n",
      "Element = True , Data Type= <class 'bool'>\n",
      "Element = 35.353 , Data Type= <class 'float'>\n",
      "Element = 89.245 , Data Type= <class 'float'>\n",
      "Element = Pwskills , Data Type= <class 'str'>\n"
     ]
    }
   ],
   "source": [
    "''' Q4. Create a list of length 10 of your choice containing multiple types of data. Using for loop print the\n",
    "element and its data type. '''\n",
    "\n",
    "list1 =  [4,5,7,242,\"Mayur\", True , 35.353,89.245, 'Pwskills']\n",
    "for i in list1:\n",
    "    print('Element =' , i , \", Data Type=\"  ,  type(i))"
   ]
  },
  {
   "cell_type": "code",
   "execution_count": 7,
   "id": "3997efca-7662-426d-87f8-0a8119e7319e",
   "metadata": {},
   "outputs": [
    {
     "name": "stdout",
     "output_type": "stream",
     "text": [
      "4 is not divisible by 3\n",
      "67 is not divisible by 3\n",
      "97 is not divisible by 3\n",
      "98 is not divisible by 3\n",
      "69 is divisible by 3\n",
      "30 is divisible by 3\n",
      "15 is divisible by 3\n",
      "66 is divisible by 3\n",
      "78 is divisible by 3\n",
      "48 is divisible by 3\n",
      "91 is not divisible by 3\n",
      "234 is divisible by 3\n",
      "35 is not divisible by 3\n",
      "45 is divisible by 3\n",
      "97 is not divisible by 3\n",
      "462 is divisible by 3\n",
      "245 is not divisible by 3\n",
      "26 is not divisible by 3\n",
      "23 is not divisible by 3\n",
      "532 is not divisible by 3\n",
      "6 is divisible by 3\n",
      "3 is divisible by 3\n",
      "8 is not divisible by 3\n",
      "9 is divisible by 3\n",
      "90 is divisible by 3\n"
     ]
    }
   ],
   "source": [
    "'''Q6. Create a list containing 25 int type data. Using for loop and if-else condition print if the element is\n",
    "divisible by 3 or not.'''\n",
    "\n",
    "numbers = [4,67,97,98,69,30,15,66,78,48,91,234,35,45,97,462,245,26,23,532,6,3,8,9,90]\n",
    "for num in numbers:\n",
    "    if num % 3 == 0:\n",
    "        print(f\"{num} is divisible by 3\")\n",
    "    else:\n",
    "        print(f\"{num} is not divisible by 3\")\n",
    "\n",
    "    "
   ]
  },
  {
   "cell_type": "markdown",
   "id": "9286ac27-30b9-41e6-b326-5d0ffbd65080",
   "metadata": {},
   "source": [
    "Q - 7 What do you understand about mutable and immutable data types? Give examples for both showing\n",
    "this property.'''\n",
    "\n",
    "Immutable data types:\n",
    "\n",
    " Immutable objects cannot be modified once created. If you want to update the value of an immutable object,\n",
    "you need to create a new object.\n",
    "Example - int , str, tuple .\n",
    "\n",
    "Mutable data types:\n",
    "\n",
    "Mutable objects can be modified or updated after they are created. You can change their values or add/remove elements.\n",
    "Example - List , Sets , Dict\n",
    "\n"
   ]
  },
  {
   "cell_type": "code",
   "execution_count": 9,
   "id": "6fed6b2d-67ab-4f42-a880-920792734a36",
   "metadata": {},
   "outputs": [
    {
     "name": "stdout",
     "output_type": "stream",
     "text": [
      "11.0 is not divisible by 5 anymore.\n",
      "The number 5 can be divided into 2 times.\n"
     ]
    }
   ],
   "source": [
    "''' Q- 6 Using a while loop, verify if the number A is purely divisible by number B and if so then how many\n",
    "times it can be divisible. ''' \n",
    "\n",
    "a = 275\n",
    "b = 5\n",
    "\n",
    "count = 0\n",
    "\n",
    "while a % b == 0:\n",
    "    a /= b\n",
    "    count += 1\n",
    "\n",
    "print(f\"{a} is not divisible by {b} anymore.\")\n",
    "print(f\"The number {b} can be divided into {count} times.\")"
   ]
  },
  {
   "cell_type": "code",
   "execution_count": null,
   "id": "2f57cff9-eab7-46a9-81e0-73af88aeaf90",
   "metadata": {},
   "outputs": [],
   "source": []
  }
 ],
 "metadata": {
  "kernelspec": {
   "display_name": "Python 3 (ipykernel)",
   "language": "python",
   "name": "python3"
  },
  "language_info": {
   "codemirror_mode": {
    "name": "ipython",
    "version": 3
   },
   "file_extension": ".py",
   "mimetype": "text/x-python",
   "name": "python",
   "nbconvert_exporter": "python",
   "pygments_lexer": "ipython3",
   "version": "3.10.8"
  }
 },
 "nbformat": 4,
 "nbformat_minor": 5
}
