{
 "cells": [
  {
   "cell_type": "code",
   "execution_count": null,
   "id": "bbb1d25f-64d3-457e-8e31-d6bc41841b2e",
   "metadata": {},
   "outputs": [],
   "source": [
    "import pandas as pd "
   ]
  },
  {
   "cell_type": "code",
   "execution_count": null,
   "id": "bd745b0a-df31-4a83-96a1-7dda5e1ad0f0",
   "metadata": {},
   "outputs": [],
   "source": [
    "# Q1. List any five functions of the pandas library with execution.\n",
    "# Answer - \n",
    "\n",
    "#1 -  pd.read_csv(): This function is used to read data from a CSV file and create a DataFrame.\n",
    "#2 - df.drop(): This method is used to remove specific rows or columns from a DataFrame.\n",
    "#3 - df.sort_values(): This method is used to sort the rows of a DataFrame based on the values in one or more columns.\n",
    "#4 - df.describe(): Generate summary statistics of numerical columns in the DataFrame.\n",
    "#5 - df.columns: Access the column labels of the DataFrame.\n",
    "\n"
   ]
  },
  {
   "cell_type": "markdown",
   "id": "e094b1e4-dc99-41cf-a838-fb142b10c967",
   "metadata": {},
   "source": [
    "#Q2. Given a Pandas DataFrame df with columns 'A', 'B', and 'C', write a Python function to re-index the DataFrame with a new index that starts from 1 and increments by 2 for each row."
   ]
  },
  {
   "cell_type": "code",
   "execution_count": 26,
   "id": "dbdbaf2a-294e-413e-8dd9-e05ee2dc9915",
   "metadata": {},
   "outputs": [
    {
     "name": "stdout",
     "output_type": "stream",
     "text": [
      "John 25\n",
      "Jane 30\n",
      "Bob 35\n"
     ]
    }
   ],
   "source": [
    "import pandas as pd\n",
    "\n",
    " \n",
    "\n",
    "data = {'name': ['John', 'Jane', 'Bob'], 'age': [25, 30, 35]}\n",
    "\n",
    "df = pd.DataFrame(data)\n",
    "\n",
    " \n",
    "\n",
    "for index, row in df.iterrows():\n",
    "\n",
    "    print(row['name'], row['age'])\n",
    "    \n",
    "\n",
    "\n"
   ]
  },
  {
   "cell_type": "code",
   "execution_count": null,
   "id": "0310f16b-7da9-42cb-b18f-2bdcfa7776fc",
   "metadata": {},
   "outputs": [],
   "source": [
    "import pandas as pd\n",
    "\n",
    " \n",
    "\n",
    "data = {'name': ['Alice', 'Bob', 'Charlie'], 'age': [30, 25, 40]}\n",
    "\n",
    "df = pd.DataFrame(data)\n",
    "\n",
    " \n",
    "\n",
    "df_subset = df.loc[1:2, 'name']\n",
    "\n",
    " \n",
    "\n",
    "print(df_subset)"
   ]
  },
  {
   "cell_type": "code",
   "execution_count": null,
   "id": "1d4d28b8-9b97-401e-b847-c4a8c1876575",
   "metadata": {},
   "outputs": [],
   "source": []
  },
  {
   "cell_type": "raw",
   "id": "8bf56c9e-7d69-4e01-814e-b60b5b95c646",
   "metadata": {},
   "source": [
    "Q4. Given a Pandas DataFrame df with a column 'Text', write a Python function to create a new column\n",
    "'Word_Count' that contains the number of words in each row of the 'Text' column."
   ]
  },
  {
   "cell_type": "code",
   "execution_count": 7,
   "id": "54c39b29-dc68-48ff-b30a-a13b67874084",
   "metadata": {},
   "outputs": [],
   "source": [
    "#Solve 4 \n",
    "import pandas as pd\n",
    "data = {'ID' : [1,2,3,4,5,6,7],\n",
    "       'Names' : ['mayur', 'sagar','ronit', 'sharavan', 'aakash','anurag', 'ankuj']}\n",
    "df = pd.DataFrame(data)\n",
    "df['word_len'] = df['Names'].apply(len)\n",
    "print(df)"
   ]
  },
  {
   "cell_type": "code",
   "execution_count": 11,
   "id": "bf3af496-528c-41a6-b39e-602407dc2d1b",
   "metadata": {},
   "outputs": [],
   "source": []
  },
  {
   "cell_type": "code",
   "execution_count": null,
   "id": "21250879-54c1-4a16-9e30-921c5a4534fe",
   "metadata": {},
   "outputs": [],
   "source": []
  },
  {
   "cell_type": "raw",
   "id": "dde885ec-0249-4460-8c77-68d7c6d9bc67",
   "metadata": {},
   "source": [
    "Q5.  How are DataFrame.size() and DataFrame.shape() different?\n",
    "Answer - \n",
    "\n",
    "DataFrame.size: This attribute returns the total number of elements in the DataFrame, which is calculated as the product of the number of rows and the number of columns. It gives you the total count of cells in the DataFrame.\n",
    "\n",
    "DataFrame.shape: This attribute returns a tuple representing the dimensions of the DataFrame. It provides the number of rows and columns in the DataFrame. The shape is given in the format (rows, columns).\n",
    "\n"
   ]
  },
  {
   "cell_type": "code",
   "execution_count": null,
   "id": "3185d6fc-dc5d-4508-87ad-908a2c439584",
   "metadata": {},
   "outputs": [],
   "source": []
  },
  {
   "cell_type": "raw",
   "id": "f78b9a8f-0d3f-4148-8be4-7d43f4e81b0c",
   "metadata": {},
   "source": [
    "Q6. Which function of pandas do we use to read an excel file?"
   ]
  },
  {
   "cell_type": "code",
   "execution_count": 14,
   "id": "749911fa-c690-424c-a579-40e9657ad2fd",
   "metadata": {},
   "outputs": [],
   "source": [
    "##solve 6\n",
    "\n",
    "df = pd.read_excel(\"Random data.xlsx\")\n",
    "print(df)"
   ]
  },
  {
   "cell_type": "code",
   "execution_count": null,
   "id": "f6558347-85a0-4c14-9cf4-724e8c8b3de6",
   "metadata": {},
   "outputs": [],
   "source": []
  },
  {
   "cell_type": "raw",
   "id": "6349c49d-d105-4bf3-beb0-354dcdd203d2",
   "metadata": {},
   "source": [
    "Q7. You have a Pandas DataFrame df that contains a column named 'Email' that contains email\n",
    "addresses in the format 'username@domain.com'. Write a Python function that creates a new column\n",
    "'Username' in df that contains only the username part of each email address.\n"
   ]
  },
  {
   "cell_type": "code",
   "execution_count": 6,
   "id": "8cde21aa-b605-4384-a490-2803ef9cce0c",
   "metadata": {},
   "outputs": [],
   "source": [
    "#solve 7 \n",
    "\n",
    "import pandas as pd\n",
    "\n",
    "data = {'Email' : [\"Mayur@gamil\", \"sagar@gmail\", \"Bob@gamil\", \"anurag@gmail\"\n",
    "                  ]\n",
    "}\n",
    "\n",
    "df = pd.DataFrame(data)\n",
    "\n",
    "df['Username'] = df['Email'].str.split('@').str[0]"
   ]
  },
  {
   "cell_type": "code",
   "execution_count": 7,
   "id": "2949deec-3a4e-4a81-837c-d78cdfaf1ec5",
   "metadata": {},
   "outputs": [
    {
     "data": {
      "text/plain": [
       "0     Mayur\n",
       "1     sagar\n",
       "2       Bob\n",
       "3    anurag\n",
       "Name: Username, dtype: object"
      ]
     },
     "execution_count": 7,
     "metadata": {},
     "output_type": "execute_result"
    }
   ],
   "source": [
    "df['Username']"
   ]
  },
  {
   "cell_type": "code",
   "execution_count": null,
   "id": "92d9274e-dd4f-4095-bf63-5e8964c4c35c",
   "metadata": {},
   "outputs": [],
   "source": []
  },
  {
   "cell_type": "raw",
   "id": "ccb19c9d-a339-4666-ab66-b28c831e5b96",
   "metadata": {},
   "source": [
    "Q8. You have a Pandas DataFrame df with columns 'A', 'B', and 'C'. Write a Python function that selects\n",
    "all rows where the value in column 'A' is greater than 5 and the value in column 'B' is less than 10. The\n",
    "function should return a new DataFrame that contains only the selected rows."
   ]
  },
  {
   "cell_type": "code",
   "execution_count": 16,
   "id": "2f850e6c-3eaf-48e4-8552-fc93e07524c5",
   "metadata": {},
   "outputs": [],
   "source": [
    "#solve 8 \n",
    "\n",
    "import pandas as pd\n",
    "\n",
    "\n",
    "\n",
    "data = {'A': [3, 8, 6, 2, 9],\n",
    "        'B': [5, 2, 9, 3, 1],\n",
    "        'C': [1, 7, 4, 5, 2]}\n",
    "df = pd.DataFrame(data)\n",
    "\n",
    "df1 = df.query('A > 5 and B < 10')\n"
   ]
  },
  {
   "cell_type": "code",
   "execution_count": 15,
   "id": "8fdd9c80-aedf-4cf3-aa14-5c7da7443daa",
   "metadata": {},
   "outputs": [
    {
     "data": {
      "text/html": [
       "<div>\n",
       "<style scoped>\n",
       "    .dataframe tbody tr th:only-of-type {\n",
       "        vertical-align: middle;\n",
       "    }\n",
       "\n",
       "    .dataframe tbody tr th {\n",
       "        vertical-align: top;\n",
       "    }\n",
       "\n",
       "    .dataframe thead th {\n",
       "        text-align: right;\n",
       "    }\n",
       "</style>\n",
       "<table border=\"1\" class=\"dataframe\">\n",
       "  <thead>\n",
       "    <tr style=\"text-align: right;\">\n",
       "      <th></th>\n",
       "      <th>A</th>\n",
       "      <th>B</th>\n",
       "      <th>C</th>\n",
       "    </tr>\n",
       "  </thead>\n",
       "  <tbody>\n",
       "    <tr>\n",
       "      <th>0</th>\n",
       "      <td>3</td>\n",
       "      <td>5</td>\n",
       "      <td>1</td>\n",
       "    </tr>\n",
       "    <tr>\n",
       "      <th>1</th>\n",
       "      <td>8</td>\n",
       "      <td>2</td>\n",
       "      <td>7</td>\n",
       "    </tr>\n",
       "    <tr>\n",
       "      <th>2</th>\n",
       "      <td>6</td>\n",
       "      <td>9</td>\n",
       "      <td>4</td>\n",
       "    </tr>\n",
       "    <tr>\n",
       "      <th>3</th>\n",
       "      <td>2</td>\n",
       "      <td>3</td>\n",
       "      <td>5</td>\n",
       "    </tr>\n",
       "    <tr>\n",
       "      <th>4</th>\n",
       "      <td>9</td>\n",
       "      <td>1</td>\n",
       "      <td>2</td>\n",
       "    </tr>\n",
       "  </tbody>\n",
       "</table>\n",
       "</div>"
      ],
      "text/plain": [
       "   A  B  C\n",
       "0  3  5  1\n",
       "1  8  2  7\n",
       "2  6  9  4\n",
       "3  2  3  5\n",
       "4  9  1  2"
      ]
     },
     "execution_count": 15,
     "metadata": {},
     "output_type": "execute_result"
    }
   ],
   "source": [
    "df1"
   ]
  },
  {
   "cell_type": "code",
   "execution_count": null,
   "id": "651d106f-f5e2-459f-8bd0-92b11df1639e",
   "metadata": {},
   "outputs": [],
   "source": []
  },
  {
   "cell_type": "code",
   "execution_count": null,
   "id": "7a646034-07cd-44f2-8f87-b1385bba8161",
   "metadata": {},
   "outputs": [],
   "source": []
  },
  {
   "cell_type": "raw",
   "id": "b37a6d67-eaa6-4d0b-985d-bba3c1fd4e75",
   "metadata": {},
   "source": [
    "Q9. Given a Pandas DataFrame df with a column 'Values', write a Python function to calculate the mean,\n",
    "median, and standard deviation of the values in the 'Values' column.\n"
   ]
  },
  {
   "cell_type": "code",
   "execution_count": 17,
   "id": "0502e415-5ac5-4c83-8757-ff51089bf0fe",
   "metadata": {},
   "outputs": [],
   "source": [
    "#solve Q9 \n",
    "\n",
    "\n",
    "\n",
    "\n",
    "data = {'Values': [10, 20, 30, 40, 50]}\n",
    "df = pd.DataFrame(data)\n",
    "\n",
    "\n",
    "mean_value = df['Values'].mean()\n",
    "median_value = df['Values'].median()\n",
    "std_deviation = df['Values'].std()\n"
   ]
  },
  {
   "cell_type": "code",
   "execution_count": 18,
   "id": "75679660-f7c7-4932-bbb8-5223b82510aa",
   "metadata": {},
   "outputs": [
    {
     "data": {
      "text/plain": [
       "30.0"
      ]
     },
     "execution_count": 18,
     "metadata": {},
     "output_type": "execute_result"
    }
   ],
   "source": [
    "mean_value "
   ]
  },
  {
   "cell_type": "raw",
   "id": "9d7fb5ff-2406-4157-be7d-3f706d5f93a6",
   "metadata": {},
   "source": [
    "Q11. You have a Pandas DataFrame df with a column 'Date'. Write a Python function that creates a new\n",
    "column 'Weekday' in the DataFrame. The 'Weekday' column should contain the weekday name (e.g.\n",
    "Monday, Tuesday) corresponding to each date in the 'Date' column."
   ]
  },
  {
   "cell_type": "code",
   "execution_count": 19,
   "id": "17f67d01-d219-466f-86e0-83aa0a9c0d9c",
   "metadata": {},
   "outputs": [],
   "source": [
    "#solve Q11\n",
    "\n",
    "data = {'Date': ['2023-08-14', '2023-08-15', '2023-08-16']}\n",
    "df = pd.DataFrame(data)\n",
    "\n",
    "\n",
    "df['Date'] = pd.to_datetime(df['Date'])\n",
    "df['Weekday'] = df['Date'].dt.strftime('%A')"
   ]
  },
  {
   "cell_type": "code",
   "execution_count": 21,
   "id": "a0ddfbb0-50ee-4aa4-b713-6863b3773045",
   "metadata": {},
   "outputs": [
    {
     "data": {
      "text/html": [
       "<div>\n",
       "<style scoped>\n",
       "    .dataframe tbody tr th:only-of-type {\n",
       "        vertical-align: middle;\n",
       "    }\n",
       "\n",
       "    .dataframe tbody tr th {\n",
       "        vertical-align: top;\n",
       "    }\n",
       "\n",
       "    .dataframe thead th {\n",
       "        text-align: right;\n",
       "    }\n",
       "</style>\n",
       "<table border=\"1\" class=\"dataframe\">\n",
       "  <thead>\n",
       "    <tr style=\"text-align: right;\">\n",
       "      <th></th>\n",
       "      <th>Date</th>\n",
       "      <th>Weekday</th>\n",
       "    </tr>\n",
       "  </thead>\n",
       "  <tbody>\n",
       "    <tr>\n",
       "      <th>0</th>\n",
       "      <td>2023-08-14</td>\n",
       "      <td>Monday</td>\n",
       "    </tr>\n",
       "    <tr>\n",
       "      <th>1</th>\n",
       "      <td>2023-08-15</td>\n",
       "      <td>Tuesday</td>\n",
       "    </tr>\n",
       "    <tr>\n",
       "      <th>2</th>\n",
       "      <td>2023-08-16</td>\n",
       "      <td>Wednesday</td>\n",
       "    </tr>\n",
       "  </tbody>\n",
       "</table>\n",
       "</div>"
      ],
      "text/plain": [
       "        Date    Weekday\n",
       "0 2023-08-14     Monday\n",
       "1 2023-08-15    Tuesday\n",
       "2 2023-08-16  Wednesday"
      ]
     },
     "execution_count": 21,
     "metadata": {},
     "output_type": "execute_result"
    }
   ],
   "source": [
    "df"
   ]
  },
  {
   "cell_type": "raw",
   "id": "b1434a84-7214-48e5-8984-c67823d4c62b",
   "metadata": {},
   "source": [
    "Q12. Given a Pandas DataFrame df with a column 'Date' that contains timestamps, write a Python\n",
    "function to select all rows where the date is between '2023-01-01' and '2023-01-31'.\n",
    "\n"
   ]
  },
  {
   "cell_type": "code",
   "execution_count": 23,
   "id": "cd530cf4-a6ca-4082-b1ed-61d51558bdef",
   "metadata": {},
   "outputs": [],
   "source": [
    "#solve Q12\n",
    "\n",
    "data = {'Date': ['2023-01-15', '2023-02-10', '2023-01-25', '2023-03-05']}\n",
    "df = pd.DataFrame(data)\n",
    "\n",
    "df['Date'] = pd.to_datetime(df['Date'])\n",
    "\n",
    "\n",
    "start_date = pd.to_datetime('2023-01-01')\n",
    "end_date = pd.to_datetime('2023-01-31')\n",
    "\n",
    "\n",
    "selected_rows = df[(df['Date'] >= start_date) & (df['Date'] <= end_date)]\n"
   ]
  },
  {
   "cell_type": "code",
   "execution_count": 25,
   "id": "5c0dd810-bf8a-4f13-8f65-9b3efc5e2958",
   "metadata": {},
   "outputs": [
    {
     "data": {
      "text/html": [
       "<div>\n",
       "<style scoped>\n",
       "    .dataframe tbody tr th:only-of-type {\n",
       "        vertical-align: middle;\n",
       "    }\n",
       "\n",
       "    .dataframe tbody tr th {\n",
       "        vertical-align: top;\n",
       "    }\n",
       "\n",
       "    .dataframe thead th {\n",
       "        text-align: right;\n",
       "    }\n",
       "</style>\n",
       "<table border=\"1\" class=\"dataframe\">\n",
       "  <thead>\n",
       "    <tr style=\"text-align: right;\">\n",
       "      <th></th>\n",
       "      <th>Date</th>\n",
       "    </tr>\n",
       "  </thead>\n",
       "  <tbody>\n",
       "    <tr>\n",
       "      <th>0</th>\n",
       "      <td>2023-01-15</td>\n",
       "    </tr>\n",
       "    <tr>\n",
       "      <th>2</th>\n",
       "      <td>2023-01-25</td>\n",
       "    </tr>\n",
       "  </tbody>\n",
       "</table>\n",
       "</div>"
      ],
      "text/plain": [
       "        Date\n",
       "0 2023-01-15\n",
       "2 2023-01-25"
      ]
     },
     "execution_count": 25,
     "metadata": {},
     "output_type": "execute_result"
    }
   ],
   "source": [
    "\n",
    "selected_rows "
   ]
  },
  {
   "cell_type": "code",
   "execution_count": null,
   "id": "0ae17a04-2751-4a30-a896-59227881f69f",
   "metadata": {},
   "outputs": [],
   "source": []
  },
  {
   "cell_type": "code",
   "execution_count": null,
   "id": "1a770486-d75d-4b82-8fc2-89eecebd5a79",
   "metadata": {},
   "outputs": [],
   "source": []
  },
  {
   "cell_type": "raw",
   "id": "b6c13150-ee0f-4519-ac5b-f5753f1824d0",
   "metadata": {},
   "source": [
    "Q13 To use the basic functions of pandas, what is the first and foremost necessary library that needs to\n",
    "be imported?\n",
    "\n",
    "Answer - The first and foremost necessary library that needs to be imported to use the basic functions of pandas is the pandas library itself. You can import it using the following line of code: import pandas as pd"
   ]
  },
  {
   "cell_type": "code",
   "execution_count": null,
   "id": "e73f9376-6934-468f-90c1-87f4f1ecd304",
   "metadata": {},
   "outputs": [],
   "source": []
  }
 ],
 "metadata": {
  "kernelspec": {
   "display_name": "Python 3 (ipykernel)",
   "language": "python",
   "name": "python3"
  },
  "language_info": {
   "codemirror_mode": {
    "name": "ipython",
    "version": 3
   },
   "file_extension": ".py",
   "mimetype": "text/x-python",
   "name": "python",
   "nbconvert_exporter": "python",
   "pygments_lexer": "ipython3",
   "version": "3.10.8"
  }
 },
 "nbformat": 4,
 "nbformat_minor": 5
}
