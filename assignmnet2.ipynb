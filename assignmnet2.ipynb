{
 "cells": [
  {
   "cell_type": "markdown",
   "id": "350442a2-8763-4fe1-9ed3-866554c489fe",
   "metadata": {},
   "source": [
    "Q1. How do you comment code in Python? What are the different types of comments?\n",
    "\n",
    "we can comment in a code in verious way.\n",
    "Using ### we can convert a line in code \n",
    "also by using ''' - ''' we can convert  mutiple lines as a commnet "
   ]
  },
  {
   "cell_type": "markdown",
   "id": "75bfd71c-8a71-4d36-8476-00bb83ef34da",
   "metadata": {},
   "source": [
    "Q2. What are variables in Python? How do you declare and assign values to variables?\n",
    "Answer - In Python, variables are used to store and manipulate data. They act as named containers that can hold different types of values, such as numbers, strings, lists, or even more complex objects. Variables allow you to refer to and modify values by their assigned names\n",
    "Example of veriable - \n",
    "\n",
    "A = \"String\" (Here we stored a string value under A veriable)\n",
    "B = 645 (Here we stored a integer value under B Veriable)\n",
    "C = [65,\"Mayur\", 88.6, True] (Here we Stroed List in C veriable)\n"
   ]
  },
  {
   "cell_type": "code",
   "execution_count": 40,
   "id": "d2ee0a72-9492-4428-8293-ad25fb92f387",
   "metadata": {},
   "outputs": [
    {
     "data": {
      "text/plain": [
       "(5, 35, 42, 242, 'Mayur')"
      ]
     },
     "execution_count": 40,
     "metadata": {},
     "output_type": "execute_result"
    }
   ],
   "source": [
    "### Q3 -How do you convert one data type to another in Python?\n",
    "\n",
    "list = [5,35,42,242,'Mayur']\n",
    "tuple(A)\n",
    "\n",
    "\n"
   ]
  },
  {
   "cell_type": "code",
   "execution_count": 41,
   "id": "5a0f6863-77f1-4213-8f14-0587d5a7c1ab",
   "metadata": {},
   "outputs": [
    {
     "data": {
      "text/plain": [
       "list"
      ]
     },
     "execution_count": 41,
     "metadata": {},
     "output_type": "execute_result"
    }
   ],
   "source": [
    "type(A)"
   ]
  },
  {
   "cell_type": "code",
   "execution_count": 37,
   "id": "927e45e7-5385-47b2-9694-6d21a7ae2733",
   "metadata": {},
   "outputs": [
    {
     "name": "stdout",
     "output_type": "stream",
     "text": [
      "[2, 3]\n"
     ]
    }
   ],
   "source": [
    "### Q4 -Given a list my_list = [1, 2, 3, 4, 5], write the code to slice the list and obtain the sub-list [2, 3].\n",
    "\n",
    "my_list = [1, 2, 3, 4, 5]\n",
    "sub_list = my_list[1:3]\n",
    "print(sub_list)"
   ]
  },
  {
   "cell_type": "code",
   "execution_count": 19,
   "id": "51638928-4ccd-42c6-83d7-62b251c70979",
   "metadata": {},
   "outputs": [],
   "source": [
    "### Q6. What is a complex number in mathematics, and how is it represented in Python?\n",
    "\n",
    "A = 5 + 6j "
   ]
  },
  {
   "cell_type": "code",
   "execution_count": 21,
   "id": "8eee46a0-f587-4722-bb4a-57196ede4f06",
   "metadata": {},
   "outputs": [
    {
     "data": {
      "text/plain": [
       "bool"
      ]
     },
     "execution_count": 21,
     "metadata": {},
     "output_type": "execute_result"
    }
   ],
   "source": [
    "type(A)"
   ]
  },
  {
   "cell_type": "code",
   "execution_count": 24,
   "id": "63a08457-d38b-484f-804b-bfd128e41ccf",
   "metadata": {},
   "outputs": [
    {
     "name": "stdout",
     "output_type": "stream",
     "text": [
      "My age is 25\n"
     ]
    }
   ],
   "source": [
    "###Q7. What is the correct way to declare a variable named age and assign the value 25 to it?\n",
    "\n",
    "age = 25 \n",
    "print(\"My age is\" , age)"
   ]
  },
  {
   "cell_type": "code",
   "execution_count": 25,
   "id": "a969db8f-2eaa-4693-a24f-1aeba9386162",
   "metadata": {},
   "outputs": [
    {
     "data": {
      "text/plain": [
       "float"
      ]
     },
     "execution_count": 25,
     "metadata": {},
     "output_type": "execute_result"
    }
   ],
   "source": [
    "'''Q8. Declare a variable named price and assign the value 9.99 to it.\n",
    "What data type does this variable belong to?'''\n",
    "\n",
    "price = 9.99\n",
    "type(price) "
   ]
  },
  {
   "cell_type": "code",
   "execution_count": 26,
   "id": "154313ff-3fa1-4355-8996-99eea4a71e0e",
   "metadata": {},
   "outputs": [
    {
     "name": "stdout",
     "output_type": "stream",
     "text": [
      "Mayur Choudhary\n"
     ]
    }
   ],
   "source": [
    "'''Q9. Create a variable named name and assign your full name to it as a string. How would you print the\n",
    "value of this variable?'''\n",
    "\n",
    "name = 'Mayur Choudhary'\n",
    "print(name)"
   ]
  },
  {
   "cell_type": "code",
   "execution_count": 28,
   "id": "7f913bbf-7abf-4c00-b3c6-d8fb2ffc97b8",
   "metadata": {},
   "outputs": [
    {
     "name": "stdout",
     "output_type": "stream",
     "text": [
      "World\n"
     ]
    }
   ],
   "source": [
    "#Q10 - Given the string \"Hello, World!\", extract the substring \"World\".\n",
    "\n",
    "my_string = \"Hello, World!\"\n",
    "sub_string = my_string[7:12]\n",
    "print(sub_string)"
   ]
  },
  {
   "cell_type": "code",
   "execution_count": 34,
   "id": "48228dd9-5913-4ab8-adbe-31055d084244",
   "metadata": {},
   "outputs": [
    {
     "name": "stdout",
     "output_type": "stream",
     "text": [
      "I Am a student\n"
     ]
    }
   ],
   "source": [
    "''' Q11. Create a variable named \"is_student\" and assign it a boolean value indicating whether you are\n",
    "currently a student or not. '''\n",
    "\n",
    "is_student = True\n",
    "if is_student == 1:\n",
    "        print(\"I Am a student\")\n",
    "\n"
   ]
  },
  {
   "cell_type": "code",
   "execution_count": null,
   "id": "d211bdbb-df92-43ba-9442-aca4e1d7f6e3",
   "metadata": {},
   "outputs": [],
   "source": []
  }
 ],
 "metadata": {
  "kernelspec": {
   "display_name": "Python 3 (ipykernel)",
   "language": "python",
   "name": "python3"
  },
  "language_info": {
   "codemirror_mode": {
    "name": "ipython",
    "version": 3
   },
   "file_extension": ".py",
   "mimetype": "text/x-python",
   "name": "python",
   "nbconvert_exporter": "python",
   "pygments_lexer": "ipython3",
   "version": "3.10.8"
  }
 },
 "nbformat": 4,
 "nbformat_minor": 5
}
