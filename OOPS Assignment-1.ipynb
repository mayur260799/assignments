{
 "cells": [
  {
   "cell_type": "raw",
   "id": "dcdf8536-07f6-4957-a3c5-068f0b18abfd",
   "metadata": {},
   "source": [
    "Assignment quetion \n",
    "\n",
    "@1. Explain Class and Object with respect to Object-Oriented Programming. Give a suitable example.\n",
    "Q2. Name the four pillars of OOPs.\n",
    "Q3. Explain why the __init__() function is used. Give a suitable example.\n",
    "Q4. Why self is used in OOPs?\n",
    "Q5. What is inheritance? Give an example for each type of inheritance."
   ]
  },
  {
   "cell_type": "raw",
   "id": "f6ccd951-3631-4d0d-a239-b0cb646c8c13",
   "metadata": {},
   "source": [
    "## Q .1 Answer \n",
    "In object-oriented programming (OOP), a class is a blueprint or template for creating objects. It defines a set of attributes (data) and methods (functions) that the objects of that class can have. An object, on the other hand, is an instance of a class. It represents a specific entity or concept in the real world that is defined by the class."
   ]
  },
  {
   "cell_type": "code",
   "execution_count": 2,
   "id": "8d00f0c4-7a96-4710-b42a-6d3cccdd887a",
   "metadata": {},
   "outputs": [],
   "source": [
    "class BankAccount:\n",
    "    def __init__(self, account_number, owner_name, balance):\n",
    "        self.account_number = account_number\n",
    "        self.owner_name = owner_name\n",
    "        self.balance = balance\n",
    "\n",
    "    def deposit(self, amount):\n",
    "        self.balance += amount\n",
    "\n",
    "    def withdraw(self, amount):\n",
    "        if amount <= self.balance:\n",
    "            self.balance -= amount\n",
    "        else:\n",
    "            print(\"Insufficient funds!\")\n",
    "\n",
    "    def get_balance(self):\n",
    "        return self.balance\n",
    "    ## Here we create BankAccount as a class and define object under it     \n"
   ]
  },
  {
   "cell_type": "markdown",
   "id": "101478c7-1d96-412c-a1ed-58662c3ec1f7",
   "metadata": {},
   "source": [
    "Q 2. Answer\n",
    "\n",
    "The four pillars of object-oriented programming (OOP) are:\n",
    "\n",
    "Encapsulation: Encapsulation is the process of bundling data (attributes) and the methods (functions) that operate on that data within a single unit, known as a class. It hides the internal implementation details of an object and provides an interface for interacting with the object. Encapsulation helps in achieving data abstraction, security, and modularity.\n",
    "\n",
    "Inheritance: Inheritance is a mechanism that allows a class to inherit properties and behaviors from another class, called the parent or base class. The class that inherits from the base class is known as the derived or child class. Inheritance promotes code reusability and allows the derived class to extend or modify the functionality of the base class.\n",
    "\n",
    "Polymorphism: Polymorphism refers to the ability of objects of different classes to respond to the same message or method invocation in different ways. It allows different objects to have different implementations of the same method, which is achieved through method overriding and method overloading. Polymorphism helps in writing flexible and extensible code.\n",
    "\n",
    "Abstraction: Abstraction involves representing essential features of an object while hiding the unnecessary details. It focuses on defining the interface or a contract for the interaction with objects, without exposing their internal complexities. Abstraction allows programmers to create complex systems by breaking them down into smaller, manageable and modular parts."
   ]
  },
  {
   "cell_type": "markdown",
   "id": "0e9cea85-8337-454b-a7ec-d4937ed34940",
   "metadata": {},
   "source": [
    "Q.3 Answer \n",
    "\n",
    "The __init__() function, also known as the constructor, is used in OOP languages like Python to initialize the attributes of an object when it is created from a class. It is a special method that is automatically called when a new object is instantiated. The primary purpose of the __init__() function is to set the initial state of the object by assigning values to its attributes.\n",
    "\n",
    "QUETION NUMBER ONE CODE CAN BE A IDEAL EXAMPLE OF __IT__ FUNCTION"
   ]
  },
  {
   "cell_type": "markdown",
   "id": "bc8d99f6-27de-4ac8-acae-132fede5d141",
   "metadata": {},
   "source": [
    "Q.4 ANSWER\n",
    "\n",
    "In object-oriented programming (OOP), self is a conventionally used parameter name that refers to the instance of a class. It represents the current object or instance on which a method is being invoked. It allows the methods within a class to access and manipulate the attributes and methods specific to that instance."
   ]
  },
  {
   "cell_type": "markdown",
   "id": "4c47cb28-9298-44f8-841a-e52756776b40",
   "metadata": {},
   "source": [
    "Q.5 ANSWER\n",
    "\n",
    "Inheritance is a fundamental concept in object-oriented programming (OOP) that allows a class to acquire properties and behaviors from another class. It establishes an \"is-a\" relationship between classes, where a derived or child class inherits attributes and methods from a base or parent class. This promotes code reuse, modularity, and extensibility.\n",
    "There are 3 types of inheritance in python\n",
    "1. Single Inheritance\n",
    "2. Multiple Inheritance\n",
    "3. Multi level Inheritance\n"
   ]
  },
  {
   "cell_type": "code",
   "execution_count": 3,
   "id": "65daac7d-8faf-4360-bd7a-18e17472c486",
   "metadata": {},
   "outputs": [
    {
     "name": "stdout",
     "output_type": "stream",
     "text": [
      "Buddy is eating.\n",
      "Buddy is barking.\n"
     ]
    }
   ],
   "source": [
    "## 1. Single Inheritance\n",
    "\n",
    "class Animal:\n",
    "    def __init__(self, name):\n",
    "        self.name = name\n",
    "\n",
    "    def eat(self):\n",
    "        print(self.name, \"is eating.\")\n",
    "\n",
    "class Dog(Animal):\n",
    "    def bark(self):\n",
    "        print(self.name, \"is barking.\")\n",
    "\n",
    "\n",
    "dog = Dog(\"Buddy\")\n",
    "\n",
    "\n",
    "dog.eat()\n",
    "\n",
    "\n",
    "dog.bark()\n"
   ]
  },
  {
   "cell_type": "code",
   "execution_count": 4,
   "id": "bae136ce-478a-4a85-a0c0-de1ac05ed652",
   "metadata": {},
   "outputs": [
    {
     "name": "stdout",
     "output_type": "stream",
     "text": [
      "Flying...\n",
      "Swimming...\n"
     ]
    }
   ],
   "source": [
    "## Multiple Inheritance\n",
    "\n",
    "class Flyable:\n",
    "    def fly(self):\n",
    "        print(\"Flying\")\n",
    "\n",
    "class Swimmable:\n",
    "    def swim(self):\n",
    "        print(\"Swimming\")\n",
    "\n",
    "class Amphibian(Flyable, Swimmable):\n",
    "    pass\n",
    "\n",
    "# Creating an object of the derived class\n",
    "frog = Amphibian()\n",
    "\n",
    "# Accessing methods from multiple base classes\n",
    "frog.fly()\n",
    "frog.swim()\n"
   ]
  },
  {
   "cell_type": "code",
   "execution_count": 5,
   "id": "b7dc1bfb-c9f3-4bd8-be12-cb90c3c4f4f8",
   "metadata": {},
   "outputs": [
    {
     "name": "stdout",
     "output_type": "stream",
     "text": [
      "Rocky is eating.\n",
      "Rocky is barking.\n",
      "Rocky is guarding.\n"
     ]
    }
   ],
   "source": [
    "## 3. Multi level Inheritance\n",
    "\n",
    "class Animal:\n",
    "    def __init__(self, name):\n",
    "        self.name = name\n",
    "\n",
    "    def eat(self):\n",
    "        print(self.name, \"is eating.\")\n",
    "\n",
    "class Dog(Animal):\n",
    "    def bark(self):\n",
    "        print(self.name, \"is barking.\")\n",
    "\n",
    "class Bulldog(Dog):\n",
    "    def guard(self):\n",
    "        print(self.name, \"is guarding.\")\n",
    "\n",
    "# Creating an object of the derived class\n",
    "bulldog = Bulldog(\"Rocky\")\n",
    "\n",
    "# Accessing methods from multiple levels of inheritance\n",
    "bulldog.eat()\n",
    "bulldog.bark()\n",
    "bulldog.guard()\n"
   ]
  },
  {
   "cell_type": "code",
   "execution_count": null,
   "id": "13232bba-416c-4938-a991-eac53b528f8f",
   "metadata": {},
   "outputs": [],
   "source": []
  }
 ],
 "metadata": {
  "kernelspec": {
   "display_name": "Python 3 (ipykernel)",
   "language": "python",
   "name": "python3"
  },
  "language_info": {
   "codemirror_mode": {
    "name": "ipython",
    "version": 3
   },
   "file_extension": ".py",
   "mimetype": "text/x-python",
   "name": "python",
   "nbconvert_exporter": "python",
   "pygments_lexer": "ipython3",
   "version": "3.10.8"
  }
 },
 "nbformat": 4,
 "nbformat_minor": 5
}
