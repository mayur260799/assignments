{
 "cells": [
  {
   "cell_type": "raw",
   "id": "c62b9ae9-5581-4eaa-9c77-a939338671cd",
   "metadata": {},
   "source": [
    "Q.1  Create a vehicle class with an init method having instance variables\n",
    "as name_of_vehicle, max_speed and average_of_vehicle."
   ]
  },
  {
   "cell_type": "code",
   "execution_count": 1,
   "id": "d49bb765-40c6-4456-a7fa-e77ca9b8886c",
   "metadata": {},
   "outputs": [],
   "source": [
    "#Ans Q.1\n",
    "\n",
    "class vehicle:\n",
    "    \n",
    "    def __init__(self, name_of_vehicle , max_speed , average_of_vehicle ):\n",
    "        self.name_of_vehicle = name_of_vehicle\n",
    "        self.max_speed = max_speed\n",
    "        self.average_of_vehicle = average_of_vehicle\n",
    "    \n",
    "\n"
   ]
  },
  {
   "cell_type": "code",
   "execution_count": 2,
   "id": "53dba6a3-4290-4f6f-82a5-0dc7a1c0eebf",
   "metadata": {},
   "outputs": [],
   "source": [
    "mayur_car = vehicle(\"Scorpio\", 140,13)"
   ]
  },
  {
   "cell_type": "code",
   "execution_count": 4,
   "id": "5ba6cdf9-5b1a-42a2-a864-387496e78335",
   "metadata": {},
   "outputs": [
    {
     "data": {
      "text/plain": [
       "13"
      ]
     },
     "execution_count": 4,
     "metadata": {},
     "output_type": "execute_result"
    }
   ],
   "source": [
    "mayur_car.average_of_vehicle"
   ]
  },
  {
   "cell_type": "code",
   "execution_count": null,
   "id": "e907643b-4991-44c5-90c2-cc678987e4cf",
   "metadata": {},
   "outputs": [],
   "source": []
  },
  {
   "cell_type": "code",
   "execution_count": null,
   "id": "0125eb16-db23-42df-83d7-3567f69135db",
   "metadata": {},
   "outputs": [],
   "source": []
  },
  {
   "cell_type": "markdown",
   "id": "b79ac9b4-d896-4bb4-ba97-f1f207d87f6d",
   "metadata": {},
   "source": [
    "Q. 3 What is multiple inheritance? Write a python code to demonstrate multiple inheritance.\n",
    "\n",
    "Ans - Multiple inheritance is a feature in object-oriented programming languages where a class can inherit characteristics and behaviors from more than one parent class. It allows a subclass to inherit attributes and methods from multiple base classes  \n",
    "\n"
   ]
  },
  {
   "cell_type": "code",
   "execution_count": 41,
   "id": "874ada59-cb47-452c-9321-2678ac125fbc",
   "metadata": {},
   "outputs": [],
   "source": [
    "class class1:\n",
    "    def test_1(self):\n",
    "        return \"this i class1 function\"\n"
   ]
  },
  {
   "cell_type": "code",
   "execution_count": 42,
   "id": "866c7a32-5809-4ffc-96e4-c65f6d3483db",
   "metadata": {},
   "outputs": [],
   "source": [
    "class class2:\n",
    "    def test_2(self):\n",
    "        return \"This is class2 function\""
   ]
  },
  {
   "cell_type": "code",
   "execution_count": 49,
   "id": "8abfde56-3b01-4ea4-996b-2a3daeaafc1e",
   "metadata": {},
   "outputs": [],
   "source": [
    "class class3(class1, class2 ):\n",
    "    pass"
   ]
  },
  {
   "cell_type": "code",
   "execution_count": 52,
   "id": "fb2c3cd6-bdc2-437d-9e6e-6a04dd9982aa",
   "metadata": {},
   "outputs": [],
   "source": [
    "obj_class3 = class3()"
   ]
  },
  {
   "cell_type": "code",
   "execution_count": null,
   "id": "01742890-2aa1-42d1-ba58-1df7985cc463",
   "metadata": {},
   "outputs": [],
   "source": [
    "obj_class3.test_1"
   ]
  },
  {
   "cell_type": "code",
   "execution_count": null,
   "id": "cebf3169-18d8-4684-8f41-e28050d1a754",
   "metadata": {},
   "outputs": [],
   "source": []
  },
  {
   "cell_type": "markdown",
   "id": "a1300c36-ffa3-433e-9033-c65f7f6c2650",
   "metadata": {},
   "source": [
    "Q4. What are getter and setter in python? Create a class and create a getter and a setter method in this\n",
    "class."
   ]
  },
  {
   "cell_type": "code",
   "execution_count": 78,
   "id": "1e9843e0-914a-4beb-bdab-255a99c08be3",
   "metadata": {},
   "outputs": [],
   "source": [
    "# In Python, getter and setter methods are used to access and modify the values of class attributes \n",
    "# They provide an interface to retrieve and update the values of private attributes indirectly,\n",
    "# encapsulating the internal representation of the class \n",
    "\n",
    "class Person:\n",
    "    \n",
    "    def __init__(self, name):\n",
    "        self.__name = name  \n",
    "        \n",
    "    @property\n",
    "    def get_name(self):\n",
    "        return self.__name\n",
    "\n",
    "    @get_name.setter\n",
    "    def set_name(self, new_name) :\n",
    "        self.__name = new_name\n",
    "\n"
   ]
  },
  {
   "cell_type": "code",
   "execution_count": 79,
   "id": "139c63f3-a34f-463b-a05f-f0bca1a798a4",
   "metadata": {},
   "outputs": [],
   "source": [
    "pw = Person(\"shravan\")"
   ]
  },
  {
   "cell_type": "code",
   "execution_count": 80,
   "id": "eb83117c-7fe3-4045-9d83-1c293d85e39d",
   "metadata": {},
   "outputs": [
    {
     "data": {
      "text/plain": [
       "'shravan'"
      ]
     },
     "execution_count": 80,
     "metadata": {},
     "output_type": "execute_result"
    }
   ],
   "source": [
    "pw.get_name"
   ]
  },
  {
   "cell_type": "code",
   "execution_count": null,
   "id": "03121029-240c-4ab3-8fee-e0df5cef81de",
   "metadata": {},
   "outputs": [],
   "source": [
    "pw.set_name('mayur')"
   ]
  },
  {
   "cell_type": "code",
   "execution_count": null,
   "id": "a07dcaf5-37ce-4bf3-9ff9-29d9b4c1581d",
   "metadata": {},
   "outputs": [],
   "source": []
  },
  {
   "cell_type": "code",
   "execution_count": null,
   "id": "b1989ff5-97c4-4180-adef-78d17a946f3c",
   "metadata": {},
   "outputs": [],
   "source": []
  }
 ],
 "metadata": {
  "kernelspec": {
   "display_name": "Python 3 (ipykernel)",
   "language": "python",
   "name": "python3"
  },
  "language_info": {
   "codemirror_mode": {
    "name": "ipython",
    "version": 3
   },
   "file_extension": ".py",
   "mimetype": "text/x-python",
   "name": "python",
   "nbconvert_exporter": "python",
   "pygments_lexer": "ipython3",
   "version": "3.10.8"
  }
 },
 "nbformat": 4,
 "nbformat_minor": 5
}
